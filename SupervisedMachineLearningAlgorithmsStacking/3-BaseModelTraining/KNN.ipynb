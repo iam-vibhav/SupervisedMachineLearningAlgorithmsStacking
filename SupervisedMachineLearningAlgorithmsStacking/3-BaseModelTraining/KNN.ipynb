{
 "cells": [
  {
   "cell_type": "markdown",
   "id": "faa69b34",
   "metadata": {},
   "source": [
    "# K Nearest Neighbours"
   ]
  },
  {
   "cell_type": "markdown",
   "id": "a243b43e",
   "metadata": {},
   "source": [
    "### Data Preparation"
   ]
  },
  {
   "cell_type": "code",
   "execution_count": 1,
   "id": "3d99d35e",
   "metadata": {},
   "outputs": [],
   "source": [
    "import numpy as np\n",
    "import pandas as pd\n",
    "import matplotlib.pyplot as plt\n",
    "import seaborn as sns"
   ]
  },
  {
   "cell_type": "code",
   "execution_count": 2,
   "id": "53505dc2",
   "metadata": {
    "scrolled": true
   },
   "outputs": [
    {
     "data": {
      "text/html": [
       "<div>\n",
       "<style scoped>\n",
       "    .dataframe tbody tr th:only-of-type {\n",
       "        vertical-align: middle;\n",
       "    }\n",
       "\n",
       "    .dataframe tbody tr th {\n",
       "        vertical-align: top;\n",
       "    }\n",
       "\n",
       "    .dataframe thead th {\n",
       "        text-align: right;\n",
       "    }\n",
       "</style>\n",
       "<table border=\"1\" class=\"dataframe\">\n",
       "  <thead>\n",
       "    <tr style=\"text-align: right;\">\n",
       "      <th></th>\n",
       "      <th>concave_points_worst</th>\n",
       "      <th>perimeter_worst</th>\n",
       "      <th>concave_points_mean</th>\n",
       "      <th>radius_worst</th>\n",
       "      <th>perimeter_mean</th>\n",
       "      <th>area_worst</th>\n",
       "      <th>radius_mean</th>\n",
       "      <th>area_mean</th>\n",
       "      <th>concavity_mean</th>\n",
       "      <th>concavity_worst</th>\n",
       "      <th>compactness_mean</th>\n",
       "      <th>compactness_worst</th>\n",
       "      <th>radius_se</th>\n",
       "      <th>perimeter_se</th>\n",
       "      <th>area_se</th>\n",
       "      <th>diagnosis</th>\n",
       "    </tr>\n",
       "  </thead>\n",
       "  <tbody>\n",
       "    <tr>\n",
       "      <th>0</th>\n",
       "      <td>0.2654</td>\n",
       "      <td>184.60</td>\n",
       "      <td>0.14710</td>\n",
       "      <td>25.38</td>\n",
       "      <td>122.80</td>\n",
       "      <td>2019.0</td>\n",
       "      <td>17.99</td>\n",
       "      <td>1001.0</td>\n",
       "      <td>0.3001</td>\n",
       "      <td>0.7119</td>\n",
       "      <td>0.27760</td>\n",
       "      <td>0.6656</td>\n",
       "      <td>1.0950</td>\n",
       "      <td>8.589</td>\n",
       "      <td>153.40</td>\n",
       "      <td>1</td>\n",
       "    </tr>\n",
       "    <tr>\n",
       "      <th>1</th>\n",
       "      <td>0.1860</td>\n",
       "      <td>158.80</td>\n",
       "      <td>0.07017</td>\n",
       "      <td>24.99</td>\n",
       "      <td>132.90</td>\n",
       "      <td>1956.0</td>\n",
       "      <td>20.57</td>\n",
       "      <td>1326.0</td>\n",
       "      <td>0.0869</td>\n",
       "      <td>0.2416</td>\n",
       "      <td>0.07864</td>\n",
       "      <td>0.1866</td>\n",
       "      <td>0.5435</td>\n",
       "      <td>3.398</td>\n",
       "      <td>74.08</td>\n",
       "      <td>1</td>\n",
       "    </tr>\n",
       "    <tr>\n",
       "      <th>2</th>\n",
       "      <td>0.2430</td>\n",
       "      <td>152.50</td>\n",
       "      <td>0.12790</td>\n",
       "      <td>23.57</td>\n",
       "      <td>130.00</td>\n",
       "      <td>1709.0</td>\n",
       "      <td>19.69</td>\n",
       "      <td>1203.0</td>\n",
       "      <td>0.1974</td>\n",
       "      <td>0.4504</td>\n",
       "      <td>0.15990</td>\n",
       "      <td>0.4245</td>\n",
       "      <td>0.7456</td>\n",
       "      <td>4.585</td>\n",
       "      <td>94.03</td>\n",
       "      <td>1</td>\n",
       "    </tr>\n",
       "    <tr>\n",
       "      <th>3</th>\n",
       "      <td>0.2575</td>\n",
       "      <td>98.87</td>\n",
       "      <td>0.10520</td>\n",
       "      <td>14.91</td>\n",
       "      <td>77.58</td>\n",
       "      <td>567.7</td>\n",
       "      <td>11.42</td>\n",
       "      <td>386.1</td>\n",
       "      <td>0.2414</td>\n",
       "      <td>0.6869</td>\n",
       "      <td>0.28390</td>\n",
       "      <td>0.8663</td>\n",
       "      <td>0.4956</td>\n",
       "      <td>3.445</td>\n",
       "      <td>27.23</td>\n",
       "      <td>1</td>\n",
       "    </tr>\n",
       "    <tr>\n",
       "      <th>4</th>\n",
       "      <td>0.1625</td>\n",
       "      <td>152.20</td>\n",
       "      <td>0.10430</td>\n",
       "      <td>22.54</td>\n",
       "      <td>135.10</td>\n",
       "      <td>1575.0</td>\n",
       "      <td>20.29</td>\n",
       "      <td>1297.0</td>\n",
       "      <td>0.1980</td>\n",
       "      <td>0.4000</td>\n",
       "      <td>0.13280</td>\n",
       "      <td>0.2050</td>\n",
       "      <td>0.7572</td>\n",
       "      <td>5.438</td>\n",
       "      <td>94.44</td>\n",
       "      <td>1</td>\n",
       "    </tr>\n",
       "  </tbody>\n",
       "</table>\n",
       "</div>"
      ],
      "text/plain": [
       "   concave_points_worst  perimeter_worst  concave_points_mean  radius_worst  \\\n",
       "0                0.2654           184.60              0.14710         25.38   \n",
       "1                0.1860           158.80              0.07017         24.99   \n",
       "2                0.2430           152.50              0.12790         23.57   \n",
       "3                0.2575            98.87              0.10520         14.91   \n",
       "4                0.1625           152.20              0.10430         22.54   \n",
       "\n",
       "   perimeter_mean  area_worst  radius_mean  area_mean  concavity_mean  \\\n",
       "0          122.80      2019.0        17.99     1001.0          0.3001   \n",
       "1          132.90      1956.0        20.57     1326.0          0.0869   \n",
       "2          130.00      1709.0        19.69     1203.0          0.1974   \n",
       "3           77.58       567.7        11.42      386.1          0.2414   \n",
       "4          135.10      1575.0        20.29     1297.0          0.1980   \n",
       "\n",
       "   concavity_worst  compactness_mean  compactness_worst  radius_se  \\\n",
       "0           0.7119           0.27760             0.6656     1.0950   \n",
       "1           0.2416           0.07864             0.1866     0.5435   \n",
       "2           0.4504           0.15990             0.4245     0.7456   \n",
       "3           0.6869           0.28390             0.8663     0.4956   \n",
       "4           0.4000           0.13280             0.2050     0.7572   \n",
       "\n",
       "   perimeter_se  area_se  diagnosis  \n",
       "0         8.589   153.40          1  \n",
       "1         3.398    74.08          1  \n",
       "2         4.585    94.03          1  \n",
       "3         3.445    27.23          1  \n",
       "4         5.438    94.44          1  "
      ]
     },
     "execution_count": 2,
     "metadata": {},
     "output_type": "execute_result"
    }
   ],
   "source": [
    "df = pd.read_csv(\"../1-RawData/breast_cancer_selected.csv\")\n",
    "df.head()"
   ]
  },
  {
   "cell_type": "code",
   "execution_count": 3,
   "id": "31f7ff2f",
   "metadata": {},
   "outputs": [],
   "source": [
    "X = df.drop(\"diagnosis\", axis=1)\n",
    "y = df[\"diagnosis\"]"
   ]
  },
  {
   "cell_type": "code",
   "execution_count": 4,
   "id": "13b70ab0",
   "metadata": {},
   "outputs": [],
   "source": [
    "from sklearn.model_selection import train_test_split"
   ]
  },
  {
   "cell_type": "code",
   "execution_count": 5,
   "id": "36eade21",
   "metadata": {},
   "outputs": [],
   "source": [
    "#help(train_test_split)\n",
    "X_train, X_test, y_train, y_test = train_test_split(X, y, test_size = 0.3, random_state=101 )"
   ]
  },
  {
   "cell_type": "code",
   "execution_count": 6,
   "id": "dd5e62e2",
   "metadata": {},
   "outputs": [],
   "source": [
    "from sklearn.preprocessing import StandardScaler"
   ]
  },
  {
   "cell_type": "code",
   "execution_count": 7,
   "id": "8ec1dc59",
   "metadata": {},
   "outputs": [],
   "source": [
    "scaler = StandardScaler()\n",
    "scaler.fit(X_train)\n",
    "X_train = scaler.transform(X_train)\n",
    "X_test = scaler.transform(X_test)"
   ]
  },
  {
   "cell_type": "markdown",
   "id": "00ce06d6",
   "metadata": {},
   "source": [
    "### Model Training"
   ]
  },
  {
   "cell_type": "code",
   "execution_count": 8,
   "id": "dac608e6",
   "metadata": {},
   "outputs": [],
   "source": [
    "from sklearn.neighbors import KNeighborsClassifier"
   ]
  },
  {
   "cell_type": "code",
   "execution_count": 9,
   "id": "714149e2",
   "metadata": {},
   "outputs": [],
   "source": [
    "knn = KNeighborsClassifier()"
   ]
  },
  {
   "cell_type": "code",
   "execution_count": 10,
   "id": "67601da2",
   "metadata": {},
   "outputs": [],
   "source": [
    "param_grid = {\n",
    "    'n_neighbors': [3, 5, 7, 9, 11], \n",
    "    'weights': ['uniform', 'distance'],  \n",
    "    'metric': ['euclidean', 'manhattan', 'minkowski'] \n",
    "}"
   ]
  },
  {
   "cell_type": "code",
   "execution_count": 11,
   "id": "9f96372f",
   "metadata": {},
   "outputs": [],
   "source": [
    "from sklearn.model_selection import GridSearchCV"
   ]
  },
  {
   "cell_type": "code",
   "execution_count": 12,
   "id": "6d94ee8f",
   "metadata": {},
   "outputs": [
    {
     "name": "stdout",
     "output_type": "stream",
     "text": [
      "Fitting 10 folds for each of 30 candidates, totalling 300 fits\n"
     ]
    },
    {
     "data": {
      "text/plain": [
       "GridSearchCV(cv=10, estimator=KNeighborsClassifier(), n_jobs=-1,\n",
       "             param_grid={'metric': ['euclidean', 'manhattan', 'minkowski'],\n",
       "                         'n_neighbors': [3, 5, 7, 9, 11],\n",
       "                         'weights': ['uniform', 'distance']},\n",
       "             verbose=1)"
      ]
     },
     "execution_count": 12,
     "metadata": {},
     "output_type": "execute_result"
    }
   ],
   "source": [
    "knn_grid_model = GridSearchCV(knn, param_grid, cv=10, n_jobs=-1, verbose=1)\n",
    "knn_grid_model.fit(X_train, y_train)"
   ]
  },
  {
   "cell_type": "code",
   "execution_count": 13,
   "id": "e5ad1437",
   "metadata": {},
   "outputs": [
    {
     "data": {
      "text/plain": [
       "{'metric': 'manhattan', 'n_neighbors': 9, 'weights': 'uniform'}"
      ]
     },
     "execution_count": 13,
     "metadata": {},
     "output_type": "execute_result"
    }
   ],
   "source": [
    "knn_grid_model.best_params_"
   ]
  },
  {
   "cell_type": "markdown",
   "id": "7125bac9",
   "metadata": {},
   "source": [
    "### Performance Metrics"
   ]
  },
  {
   "cell_type": "code",
   "execution_count": 14,
   "id": "4f761ba0",
   "metadata": {},
   "outputs": [],
   "source": [
    "from sklearn.metrics import classification_report, confusion_matrix, ConfusionMatrixDisplay"
   ]
  },
  {
   "cell_type": "code",
   "execution_count": 15,
   "id": "c236943b",
   "metadata": {},
   "outputs": [
    {
     "name": "stdout",
     "output_type": "stream",
     "text": [
      "              precision    recall  f1-score   support\n",
      "\n",
      "           0       0.92      0.93      0.92       105\n",
      "           1       0.89      0.86      0.88        66\n",
      "\n",
      "    accuracy                           0.91       171\n",
      "   macro avg       0.90      0.90      0.90       171\n",
      "weighted avg       0.91      0.91      0.91       171\n",
      "\n"
     ]
    },
    {
     "name": "stderr",
     "output_type": "stream",
     "text": [
      "C:\\Users\\CVR\\Anaconda3\\lib\\site-packages\\sklearn\\neighbors\\_classification.py:228: FutureWarning: Unlike other reduction functions (e.g. `skew`, `kurtosis`), the default behavior of `mode` typically preserves the axis it acts along. In SciPy 1.11.0, this behavior will change: the default value of `keepdims` will become False, the `axis` over which the statistic is taken will be eliminated, and the value None will no longer be accepted. Set `keepdims` to True or False to avoid this warning.\n",
      "  mode, _ = stats.mode(_y[neigh_ind, k], axis=1)\n"
     ]
    }
   ],
   "source": [
    "y_pred = knn_grid_model.predict(X_test)\n",
    "print(classification_report(y_test, y_pred))"
   ]
  },
  {
   "cell_type": "code",
   "execution_count": 16,
   "id": "9ccea542",
   "metadata": {},
   "outputs": [
    {
     "data": {
      "text/plain": [
       "<sklearn.metrics._plot.confusion_matrix.ConfusionMatrixDisplay at 0x1ddbd24dbe0>"
      ]
     },
     "execution_count": 16,
     "metadata": {},
     "output_type": "execute_result"
    },
    {
     "data": {
      "image/png": "[encoded data removed]",
      "text/plain": [
       "<Figure size 640x480 with 2 Axes>"
      ]
     },
     "metadata": {},
     "output_type": "display_data"
    }
   ],
   "source": [
    "cm = confusion_matrix(y_test, y_pred)\n",
    "cm_plot = ConfusionMatrixDisplay(confusion_matrix=cm)\n",
    "cm_plot.plot()"
   ]
  },
  {
   "cell_type": "markdown",
   "id": "83e695c8",
   "metadata": {},
   "source": [
    "### Exporting the model"
   ]
  },
  {
   "cell_type": "code",
   "execution_count": 17,
   "id": "512d61fc",
   "metadata": {},
   "outputs": [],
   "source": [
    "import joblib"
   ]
  },
  {
   "cell_type": "code",
   "execution_count": 18,
   "id": "b87694a1",
   "metadata": {},
   "outputs": [
    {
     "data": {
      "text/plain": [
       "['../4-TrainedModels/knn_model.pkl']"
      ]
     },
     "execution_count": 18,
     "metadata": {},
     "output_type": "execute_result"
    }
   ],
   "source": [
    "joblib.dump(knn_grid_model, '../4-TrainedModels/knn_model.pkl')"
   ]
  },
  {
   "cell_type": "code",
   "execution_count": null,
   "id": "665bc6ba",
   "metadata": {},
   "outputs": [],
   "source": []
  }
 ],
 "metadata": {
  "kernelspec": {
   "display_name": "Python 3 (ipykernel)",
   "language": "python",
   "name": "python3"
  },
  "language_info": {
   "codemirror_mode": {
    "name": "ipython",
    "version": 3
   },
   "file_extension": ".py",
   "mimetype": "text/x-python",
   "name": "python",
   "nbconvert_exporter": "python",
   "pygments_lexer": "ipython3",
   "version": "3.9.13"
  }
 },
 "nbformat": 4,
 "nbformat_minor": 5
}
